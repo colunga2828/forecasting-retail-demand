{
 "cells": [
  {
   "cell_type": "markdown",
   "id": "ab313c76",
   "metadata": {},
   "source": [
    "# 📈 Forecasting Weekly Demand using Prophet\n",
    "\n",
    "This notebook uses the fictional retail dataset to forecast weekly product demand using Facebook Prophet."
   ]
  },
  {
   "cell_type": "code",
   "execution_count": null,
   "id": "021dcbfc",
   "metadata": {},
   "outputs": [],
   "source": [
    "import pandas as pd\n",
    "import numpy as np\n",
    "from prophet import Prophet\n",
    "import matplotlib.pyplot as plt\n",
    "import seaborn as sns\n",
    "\n",
    "# Configuración de gráficos\n",
    "plt.style.use('seaborn-whitegrid')\n",
    "sns.set()\n"
   ]
  },
  {
   "cell_type": "code",
   "execution_count": null,
   "id": "2377870d",
   "metadata": {},
   "outputs": [],
   "source": [
    "# Load dataset\n",
    "df = pd.read_csv('../data/demanda_retail_ficticio.csv')\n",
    "df['fecha'] = pd.to_datetime(df['fecha'])\n",
    "df.head()"
   ]
  },
  {
   "cell_type": "code",
   "execution_count": null,
   "id": "ca293c23",
   "metadata": {},
   "outputs": [],
   "source": [
    "# Filter a single SKU and warehouse to model\n",
    "sku = 'SKU_A'\n",
    "almacen = 'CEDIS_Norte'\n",
    "\n",
    "df_sku = df[(df['sku'] == sku) & (df['almacen'] == almacen)].copy()\n",
    "df_sku = df_sku[['fecha', 'unidades_vendidas']].rename(columns={'fecha': 'ds', 'unidades_vendidas': 'y'})\n",
    "df_sku.head()"
   ]
  },
  {
   "cell_type": "code",
   "execution_count": null,
   "id": "f6d58ed5",
   "metadata": {},
   "outputs": [],
   "source": [
    "# Create and fit the Prophet model\n",
    "model = Prophet(weekly_seasonality=True)\n",
    "model.fit(df_sku)\n",
    "\n",
    "# Create future dataframe (6 weeks ahead)\n",
    "future = model.make_future_dataframe(periods=6, freq='W')\n",
    "forecast = model.predict(future)\n",
    "\n",
    "# Mostrar forecast\n",
    "forecast[['ds', 'yhat', 'yhat_lower', 'yhat_upper']].tail(10)"
   ]
  },
  {
   "cell_type": "code",
   "execution_count": null,
   "id": "67c49832",
   "metadata": {},
   "outputs": [],
   "source": [
    "# Plot forecast\n",
    "fig1 = model.plot(forecast)\n",
    "plt.title(f\"Forecast for {sku} at {almacen}\")\n",
    "plt.show()\n",
    "\n",
    "# Plot components\n",
    "fig2 = model.plot_components(forecast)\n",
    "plt.show()"
   ]
  },
  {
   "cell_type": "code",
   "execution_count": null,
   "id": "684acb94",
   "metadata": {},
   "outputs": [],
   "source": [
    "# Calcular MAPE en datos históricos\n",
    "df_merged = df_sku.merge(forecast[['ds', 'yhat']], on='ds', how='left')\n",
    "df_merged.dropna(inplace=True)\n",
    "df_merged['error'] = abs(df_merged['y'] - df_merged['yhat'])\n",
    "df_merged['error_pct'] = df_merged['error'] / df_merged['y']\n",
    "mape = df_merged['error_pct'].mean() * 100\n",
    "print(f\"MAPE: {mape:.2f}%\")"
   ]
  }
 ],
 "metadata": {},
 "nbformat": 4,
 "nbformat_minor": 5
}
